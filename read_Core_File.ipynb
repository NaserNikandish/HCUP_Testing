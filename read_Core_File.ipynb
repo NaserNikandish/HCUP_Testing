{
 "cells": [
  {
   "cell_type": "markdown",
   "id": "5f17977a-0148-47a9-b255-e577711a7602",
   "metadata": {},
   "source": [
    "# Reading `NIS_2022_Core.ASC`\n",
    "## Understanding the `NIS 2022 Core` File Format\n",
    "\n",
    "The `NIS_2022_Core.ASC` file is a **fixed-width ASCII data file** is a part of the Healthcare Cost and Utilization Project (HCUP). Each row in this file represents a hospital discharge record, with hundreds of variables recorded in a fixed-width layout (i.e., specific byte positions for each column, without delimiters such as a comma `,`); this makes reading the file somewhat challenging. This is why we need a text file I downloaded from [NIS_2022_Core.TXT](https://hcup-us.ahrq.gov/db/nation/nis/tools/stats/FileSpecifications_NIS_2022_Core.TXT)\n",
    "\n",
    "### Role of the `NIS_2022_Core.TXT` File\n",
    "\n",
    "The downloaded text file as a part of [NIS_2022_Core.TXT](https://hcup-us.ahrq.gov/db/nation/nis/nisdde.jsp) website, serves as a **file specification document**. It defines:\n",
    "\n",
    " - The **name** of each variable (e.g., `AGE`, `DIED`, `DRG`, etc.),\n",
    " - Its **starting and ending byte positions** in each row of the `.ASC` file,\n",
    " - Its **data type** (numeric or character),\n",
    " - A **short description** of the variable's meaning.\n",
    "\n",
    "This metadata is essential because, as I mentioned in the meeting, the `.ASC` file does **not** contain headers or delimiters. Without the `.TXT` spec file, it would be impossible to correctly interpret the position, name, and meaning of each field.\n",
    "\n",
    "\n",
    "### Best way I was able to read the Core dataset\n",
    "\n",
    "- Have both `.TXT` and `.ASC` files along with your python notebook in the same folder.\n",
    "- Extract the variable names and byte positions from the `.TXT` file\n",
    "- Use `pandas.read_fwf()` to read the `.ASC` file with the correct column widths and headers.\n",
    "\n",
    "The above approach ensures that each data element is properly aligned and labeled within the resulting DataFrame.\n",
    "\n",
    "*Here is the code*"
   ]
  },
  {
   "cell_type": "code",
   "execution_count": 27,
   "id": "e9fb4796-fc74-40ed-928f-2e1cf6f8f820",
   "metadata": {},
   "outputs": [],
   "source": [
    "## Running this cell should take only a fraction of a second\n",
    "\n",
    "import pandas as pd\n",
    "\n",
    "## Note: considering the file format, you need the attached TXT file (I downloaded it online)\n",
    "layout_path = \"FileSpecifications_NIS_2022_Core.txt\"\n",
    "asc_path = \"NIS_2022_Core.ASC\"  \n",
    "\n",
    "## Extract column names and byte ranges\n",
    "colspecs = []\n",
    "column_names = []\n",
    "\n",
    "with open(layout_path, \"r\") as f:\n",
    "    for line in f:\n",
    "        if \"NIS_2022_Core\" in line:\n",
    "            try:\n",
    "                start = int(line[71:75].strip())\n",
    "                end = int(line[76:80].strip())\n",
    "                name = line[41:70].strip()\n",
    "                colspecs.append((start - 1, end))\n",
    "                column_names.append(name)\n",
    "            except:\n",
    "                continue\n",
    "\n",
    "## Above should read the text file and understand its structure.\n",
    "## In the next cell, I read the NIS_2022_Core.ASC file contents"
   ]
  },
  {
   "cell_type": "code",
   "execution_count": 31,
   "id": "a1fb2b6e-531d-4367-b1c6-37a6b5040493",
   "metadata": {},
   "outputs": [],
   "source": [
    "## Running this cell will take a long time (about 5 minutes on my local computer)\n",
    "\n",
    "## Use below line to read only first few 100 rows\n",
    "## df = pd.read_fwf(asc_path, colspecs=colspecs, names=column_names, nrows=100)\n",
    "\n",
    "## reading the whole dataset and loading it to DataFrame called df\n",
    "df = pd.read_fwf(asc_path, colspecs=colspecs, names=column_names)"
   ]
  },
  {
   "cell_type": "markdown",
   "id": "8d767fac-d2b2-4b7f-8604-6a28a26ef8d0",
   "metadata": {},
   "source": [
    "## Some initial data sanity check"
   ]
  },
  {
   "cell_type": "code",
   "execution_count": 35,
   "id": "12051ef3-5ee8-4c78-b9b7-1f35073879ae",
   "metadata": {},
   "outputs": [
    {
     "name": "stdout",
     "output_type": "stream",
     "text": [
      "Number of columns: 127\n"
     ]
    }
   ],
   "source": [
    "print(f'Number of columns: {len(df.columns.to_list())}')"
   ]
  },
  {
   "cell_type": "code",
   "execution_count": 33,
   "id": "d0ff9739-c912-47b7-bc7c-72d59cda9cdd",
   "metadata": {},
   "outputs": [
    {
     "name": "stdout",
     "output_type": "stream",
     "text": [
      "['AGE', 'AGE_NEONATE', 'AMONTH', 'AWEEKEND', 'DIED', 'DISCWT', 'DISPUNIFORM', 'DQTR', 'DRG', 'DRGVER', 'DRG_NoPOA', 'ELECTIVE', 'FEMALE', 'HCUP_ED', 'HOSP_DIVISION', 'HOSP_NIS', 'I10_BIRTH', 'I10_DELIVERY', 'I10_DX1', 'I10_DX2', 'I10_DX3', 'I10_DX4', 'I10_DX5', 'I10_DX6', 'I10_DX7', 'I10_DX8', 'I10_DX9', 'I10_DX10', 'I10_DX11', 'I10_DX12', 'I10_DX13', 'I10_DX14', 'I10_DX15', 'I10_DX16', 'I10_DX17', 'I10_DX18', 'I10_DX19', 'I10_DX20', 'I10_DX21', 'I10_DX22', 'I10_DX23', 'I10_DX24', 'I10_DX25', 'I10_DX26', 'I10_DX27', 'I10_DX28', 'I10_DX29', 'I10_DX30', 'I10_DX31', 'I10_DX32', 'I10_DX33', 'I10_DX34', 'I10_DX35', 'I10_DX36', 'I10_DX37', 'I10_DX38', 'I10_DX39', 'I10_DX40', 'I10_INJURY', 'I10_MULTINJURY', 'I10_NDX', 'I10_NPR', 'I10_PR1', 'I10_PR2', 'I10_PR3', 'I10_PR4', 'I10_PR5', 'I10_PR6', 'I10_PR7', 'I10_PR8', 'I10_PR9', 'I10_PR10', 'I10_PR11', 'I10_PR12', 'I10_PR13', 'I10_PR14', 'I10_PR15', 'I10_PR16', 'I10_PR17', 'I10_PR18', 'I10_PR19', 'I10_PR20', 'I10_PR21', 'I10_PR22', 'I10_PR23', 'I10_PR24', 'I10_PR25', 'I10_SERVICELINE', 'KEY_NIS', 'LOS', 'MDC', 'MDC_NoPOA', 'NIS_STRATUM', 'PAY1', 'PCLASS_ORPROC', 'PL_NCHS', 'PRDAY1', 'PRDAY2', 'PRDAY3', 'PRDAY4', 'PRDAY5', 'PRDAY6', 'PRDAY7', 'PRDAY8', 'PRDAY9', 'PRDAY10', 'PRDAY11', 'PRDAY12', 'PRDAY13', 'PRDAY14', 'PRDAY15', 'PRDAY16', 'PRDAY17', 'PRDAY18', 'PRDAY19', 'PRDAY20', 'PRDAY21', 'PRDAY22', 'PRDAY23', 'PRDAY24', 'PRDAY25', 'RACE', 'TOTCHG', 'TRAN_IN', 'TRAN_OUT', 'YEAR', 'ZIPINC_QRTL']\n"
     ]
    }
   ],
   "source": [
    "## Check columns list\n",
    "print(df.columns.to_list())"
   ]
  },
  {
   "cell_type": "code",
   "execution_count": 36,
   "id": "b760b7d8-8e29-49cd-81f8-e5e4013a6a28",
   "metadata": {},
   "outputs": [
    {
     "name": "stdout",
     "output_type": "stream",
     "text": [
      "90\n"
     ]
    }
   ],
   "source": [
    "print(df.AGE.max())  ## checking possible unusual numbers"
   ]
  },
  {
   "cell_type": "code",
   "execution_count": 37,
   "id": "e19830a0-e186-4925-ac74-9bde66a013cb",
   "metadata": {},
   "outputs": [
    {
     "name": "stdout",
     "output_type": "stream",
     "text": [
      "-99\n"
     ]
    }
   ],
   "source": [
    "print(df.AGE.min())  ## checking possible unusual numbers\n",
    "\n",
    "## -99 could be a code for missing data or any particular category. Needs to be checked with data dictionary"
   ]
  },
  {
   "cell_type": "code",
   "execution_count": 38,
   "id": "ebf53aad-f3c7-4ec2-a746-96fa71fa7b82",
   "metadata": {},
   "outputs": [
    {
     "data": {
      "text/plain": [
       "12"
      ]
     },
     "execution_count": 38,
     "metadata": {},
     "output_type": "execute_result"
    }
   ],
   "source": [
    "df.AMONTH.max()  ## maximum age month"
   ]
  },
  {
   "cell_type": "code",
   "execution_count": 40,
   "id": "b984ff67-e652-4639-bade-6e28124808e2",
   "metadata": {},
   "outputs": [
    {
     "data": {
      "text/plain": [
       "4"
      ]
     },
     "execution_count": 40,
     "metadata": {},
     "output_type": "execute_result"
    }
   ],
   "source": [
    "df.DQTR.max()  ## maximum death month"
   ]
  },
  {
   "cell_type": "code",
   "execution_count": 42,
   "id": "a4ed720d-a8c5-42ef-91e4-4e09c2a931b6",
   "metadata": {},
   "outputs": [
    {
     "data": {
      "text/plain": [
       "2.509499310771723"
      ]
     },
     "execution_count": 42,
     "metadata": {},
     "output_type": "execute_result"
    }
   ],
   "source": [
    "df.DQTR.mean()  ## makes sense that average death quarter is around 2.5 which is (1+4)/2"
   ]
  },
  {
   "cell_type": "code",
   "execution_count": 43,
   "id": "4828ca97-16e8-48b5-aea1-594e25c26483",
   "metadata": {},
   "outputs": [
    {
     "data": {
      "text/plain": [
       "array([ 0,  1, -9, -6, -8], dtype=int64)"
      ]
     },
     "execution_count": 43,
     "metadata": {},
     "output_type": "execute_result"
    }
   ],
   "source": [
    "df.FEMALE.unique()  ## possible values in column of FEMALE\n",
    "\n",
    "## Indicator of Sex. \n",
    "# The code 0 means Male\n",
    "# The code 1 means Female\n",
    "# Meaning of codes -9, -6, and -8 needs to be checked with the Data Dictionary\n"
   ]
  },
  {
   "cell_type": "code",
   "execution_count": 48,
   "id": "3fd5b532-8573-4407-bbc6-ec4fb631ab88",
   "metadata": {},
   "outputs": [
    {
     "data": {
      "text/plain": [
       "55.18278686580813"
      ]
     },
     "execution_count": 48,
     "metadata": {},
     "output_type": "execute_result"
    }
   ],
   "source": [
    "df.FEMALE.mean() * 100  # percentage of FEMALE=1 rows. If this number was very close to 0 or 1 , it was alarming.\n"
   ]
  },
  {
   "cell_type": "code",
   "execution_count": 52,
   "id": "c9cf8f86-cb52-4c4b-a36f-f545264c7536",
   "metadata": {},
   "outputs": [
    {
     "data": {
      "text/html": [
       "<div>\n",
       "<style scoped>\n",
       "    .dataframe tbody tr th:only-of-type {\n",
       "        vertical-align: middle;\n",
       "    }\n",
       "\n",
       "    .dataframe tbody tr th {\n",
       "        vertical-align: top;\n",
       "    }\n",
       "\n",
       "    .dataframe thead th {\n",
       "        text-align: right;\n",
       "    }\n",
       "</style>\n",
       "<table border=\"1\" class=\"dataframe\">\n",
       "  <thead>\n",
       "    <tr style=\"text-align: right;\">\n",
       "      <th></th>\n",
       "      <th>AGE</th>\n",
       "      <th>AGE_NEONATE</th>\n",
       "      <th>AMONTH</th>\n",
       "      <th>AWEEKEND</th>\n",
       "      <th>DIED</th>\n",
       "      <th>DISCWT</th>\n",
       "      <th>DISPUNIFORM</th>\n",
       "      <th>DQTR</th>\n",
       "      <th>DRG</th>\n",
       "      <th>DRGVER</th>\n",
       "      <th>...</th>\n",
       "      <th>PRDAY22</th>\n",
       "      <th>PRDAY23</th>\n",
       "      <th>PRDAY24</th>\n",
       "      <th>PRDAY25</th>\n",
       "      <th>RACE</th>\n",
       "      <th>TOTCHG</th>\n",
       "      <th>TRAN_IN</th>\n",
       "      <th>TRAN_OUT</th>\n",
       "      <th>YEAR</th>\n",
       "      <th>ZIPINC_QRTL</th>\n",
       "    </tr>\n",
       "  </thead>\n",
       "  <tbody>\n",
       "    <tr>\n",
       "      <th>count</th>\n",
       "      <td>6.58e+06</td>\n",
       "      <td>6.58e+06</td>\n",
       "      <td>6.58e+06</td>\n",
       "      <td>6.58e+06</td>\n",
       "      <td>6.58e+06</td>\n",
       "      <td>6.58e+06</td>\n",
       "      <td>6.58e+06</td>\n",
       "      <td>6.58e+06</td>\n",
       "      <td>6.58e+06</td>\n",
       "      <td>6.58e+06</td>\n",
       "      <td>...</td>\n",
       "      <td>6.58e+06</td>\n",
       "      <td>6.58e+06</td>\n",
       "      <td>6.58e+06</td>\n",
       "      <td>6.58e+06</td>\n",
       "      <td>6.58e+06</td>\n",
       "      <td>6.58e+06</td>\n",
       "      <td>6.58e+06</td>\n",
       "      <td>6.58e+06</td>\n",
       "      <td>6.58e+06</td>\n",
       "      <td>6.58e+06</td>\n",
       "    </tr>\n",
       "    <tr>\n",
       "      <th>mean</th>\n",
       "      <td>5.00e+01</td>\n",
       "      <td>-7.83e+00</td>\n",
       "      <td>6.56e+00</td>\n",
       "      <td>2.16e-01</td>\n",
       "      <td>2.39e-02</td>\n",
       "      <td>5.00e+00</td>\n",
       "      <td>2.83e+00</td>\n",
       "      <td>2.51e+00</td>\n",
       "      <td>5.51e+02</td>\n",
       "      <td>3.93e+01</td>\n",
       "      <td>...</td>\n",
       "      <td>-9.88e+01</td>\n",
       "      <td>-9.88e+01</td>\n",
       "      <td>-9.89e+01</td>\n",
       "      <td>-9.89e+01</td>\n",
       "      <td>1.37e+00</td>\n",
       "      <td>-7.71e+06</td>\n",
       "      <td>8.94e-02</td>\n",
       "      <td>2.84e-01</td>\n",
       "      <td>2.02e+03</td>\n",
       "      <td>2.21e+00</td>\n",
       "    </tr>\n",
       "    <tr>\n",
       "      <th>std</th>\n",
       "      <td>2.78e+01</td>\n",
       "      <td>3.21e+00</td>\n",
       "      <td>3.50e+00</td>\n",
       "      <td>4.13e-01</td>\n",
       "      <td>2.18e-01</td>\n",
       "      <td>1.44e-04</td>\n",
       "      <td>3.70e+00</td>\n",
       "      <td>1.20e+00</td>\n",
       "      <td>2.82e+02</td>\n",
       "      <td>4.37e-01</td>\n",
       "      <td>...</td>\n",
       "      <td>4.70e+00</td>\n",
       "      <td>4.36e+00</td>\n",
       "      <td>4.10e+00</td>\n",
       "      <td>3.86e+00</td>\n",
       "      <td>2.31e+00</td>\n",
       "      <td>8.77e+07</td>\n",
       "      <td>8.34e-01</td>\n",
       "      <td>7.04e-01</td>\n",
       "      <td>0.00e+00</td>\n",
       "      <td>1.71e+00</td>\n",
       "    </tr>\n",
       "    <tr>\n",
       "      <th>min</th>\n",
       "      <td>-9.90e+01</td>\n",
       "      <td>-9.00e+00</td>\n",
       "      <td>-9.00e+00</td>\n",
       "      <td>-9.00e+00</td>\n",
       "      <td>-9.00e+00</td>\n",
       "      <td>4.97e+00</td>\n",
       "      <td>-9.00e+00</td>\n",
       "      <td>-9.00e+00</td>\n",
       "      <td>1.00e+00</td>\n",
       "      <td>3.90e+01</td>\n",
       "      <td>...</td>\n",
       "      <td>-9.90e+01</td>\n",
       "      <td>-9.90e+01</td>\n",
       "      <td>-9.90e+01</td>\n",
       "      <td>-9.90e+01</td>\n",
       "      <td>-9.00e+00</td>\n",
       "      <td>-1.00e+09</td>\n",
       "      <td>-9.00e+00</td>\n",
       "      <td>-9.00e+00</td>\n",
       "      <td>2.02e+03</td>\n",
       "      <td>-9.00e+00</td>\n",
       "    </tr>\n",
       "    <tr>\n",
       "      <th>25%</th>\n",
       "      <td>3.00e+01</td>\n",
       "      <td>-9.00e+00</td>\n",
       "      <td>4.00e+00</td>\n",
       "      <td>0.00e+00</td>\n",
       "      <td>0.00e+00</td>\n",
       "      <td>5.00e+00</td>\n",
       "      <td>1.00e+00</td>\n",
       "      <td>2.00e+00</td>\n",
       "      <td>2.91e+02</td>\n",
       "      <td>3.90e+01</td>\n",
       "      <td>...</td>\n",
       "      <td>-9.90e+01</td>\n",
       "      <td>-9.90e+01</td>\n",
       "      <td>-9.90e+01</td>\n",
       "      <td>-9.90e+01</td>\n",
       "      <td>1.00e+00</td>\n",
       "      <td>1.70e+04</td>\n",
       "      <td>0.00e+00</td>\n",
       "      <td>0.00e+00</td>\n",
       "      <td>2.02e+03</td>\n",
       "      <td>1.00e+00</td>\n",
       "    </tr>\n",
       "    <tr>\n",
       "      <th>50%</th>\n",
       "      <td>5.70e+01</td>\n",
       "      <td>-9.00e+00</td>\n",
       "      <td>7.00e+00</td>\n",
       "      <td>0.00e+00</td>\n",
       "      <td>0.00e+00</td>\n",
       "      <td>5.00e+00</td>\n",
       "      <td>1.00e+00</td>\n",
       "      <td>3.00e+00</td>\n",
       "      <td>6.21e+02</td>\n",
       "      <td>3.90e+01</td>\n",
       "      <td>...</td>\n",
       "      <td>-9.90e+01</td>\n",
       "      <td>-9.90e+01</td>\n",
       "      <td>-9.90e+01</td>\n",
       "      <td>-9.90e+01</td>\n",
       "      <td>1.00e+00</td>\n",
       "      <td>3.58e+04</td>\n",
       "      <td>0.00e+00</td>\n",
       "      <td>0.00e+00</td>\n",
       "      <td>2.02e+03</td>\n",
       "      <td>2.00e+00</td>\n",
       "    </tr>\n",
       "    <tr>\n",
       "      <th>75%</th>\n",
       "      <td>7.30e+01</td>\n",
       "      <td>-9.00e+00</td>\n",
       "      <td>1.00e+01</td>\n",
       "      <td>0.00e+00</td>\n",
       "      <td>0.00e+00</td>\n",
       "      <td>5.00e+00</td>\n",
       "      <td>5.00e+00</td>\n",
       "      <td>4.00e+00</td>\n",
       "      <td>8.06e+02</td>\n",
       "      <td>4.00e+01</td>\n",
       "      <td>...</td>\n",
       "      <td>-9.90e+01</td>\n",
       "      <td>-9.90e+01</td>\n",
       "      <td>-9.90e+01</td>\n",
       "      <td>-9.90e+01</td>\n",
       "      <td>2.00e+00</td>\n",
       "      <td>7.45e+04</td>\n",
       "      <td>0.00e+00</td>\n",
       "      <td>0.00e+00</td>\n",
       "      <td>2.02e+03</td>\n",
       "      <td>3.00e+00</td>\n",
       "    </tr>\n",
       "    <tr>\n",
       "      <th>max</th>\n",
       "      <td>9.00e+01</td>\n",
       "      <td>1.00e+00</td>\n",
       "      <td>1.20e+01</td>\n",
       "      <td>1.00e+00</td>\n",
       "      <td>1.00e+00</td>\n",
       "      <td>5.01e+00</td>\n",
       "      <td>9.90e+01</td>\n",
       "      <td>4.00e+00</td>\n",
       "      <td>9.99e+02</td>\n",
       "      <td>4.00e+01</td>\n",
       "      <td>...</td>\n",
       "      <td>3.47e+02</td>\n",
       "      <td>3.33e+02</td>\n",
       "      <td>3.51e+02</td>\n",
       "      <td>3.51e+02</td>\n",
       "      <td>6.00e+00</td>\n",
       "      <td>1.00e+07</td>\n",
       "      <td>2.00e+00</td>\n",
       "      <td>2.00e+00</td>\n",
       "      <td>2.02e+03</td>\n",
       "      <td>4.00e+00</td>\n",
       "    </tr>\n",
       "  </tbody>\n",
       "</table>\n",
       "<p>8 rows × 62 columns</p>\n",
       "</div>"
      ],
      "text/plain": [
       "            AGE  AGE_NEONATE    AMONTH  AWEEKEND      DIED    DISCWT  \\\n",
       "count  6.58e+06     6.58e+06  6.58e+06  6.58e+06  6.58e+06  6.58e+06   \n",
       "mean   5.00e+01    -7.83e+00  6.56e+00  2.16e-01  2.39e-02  5.00e+00   \n",
       "std    2.78e+01     3.21e+00  3.50e+00  4.13e-01  2.18e-01  1.44e-04   \n",
       "min   -9.90e+01    -9.00e+00 -9.00e+00 -9.00e+00 -9.00e+00  4.97e+00   \n",
       "25%    3.00e+01    -9.00e+00  4.00e+00  0.00e+00  0.00e+00  5.00e+00   \n",
       "50%    5.70e+01    -9.00e+00  7.00e+00  0.00e+00  0.00e+00  5.00e+00   \n",
       "75%    7.30e+01    -9.00e+00  1.00e+01  0.00e+00  0.00e+00  5.00e+00   \n",
       "max    9.00e+01     1.00e+00  1.20e+01  1.00e+00  1.00e+00  5.01e+00   \n",
       "\n",
       "       DISPUNIFORM      DQTR       DRG    DRGVER  ...   PRDAY22   PRDAY23  \\\n",
       "count     6.58e+06  6.58e+06  6.58e+06  6.58e+06  ...  6.58e+06  6.58e+06   \n",
       "mean      2.83e+00  2.51e+00  5.51e+02  3.93e+01  ... -9.88e+01 -9.88e+01   \n",
       "std       3.70e+00  1.20e+00  2.82e+02  4.37e-01  ...  4.70e+00  4.36e+00   \n",
       "min      -9.00e+00 -9.00e+00  1.00e+00  3.90e+01  ... -9.90e+01 -9.90e+01   \n",
       "25%       1.00e+00  2.00e+00  2.91e+02  3.90e+01  ... -9.90e+01 -9.90e+01   \n",
       "50%       1.00e+00  3.00e+00  6.21e+02  3.90e+01  ... -9.90e+01 -9.90e+01   \n",
       "75%       5.00e+00  4.00e+00  8.06e+02  4.00e+01  ... -9.90e+01 -9.90e+01   \n",
       "max       9.90e+01  4.00e+00  9.99e+02  4.00e+01  ...  3.47e+02  3.33e+02   \n",
       "\n",
       "        PRDAY24   PRDAY25      RACE    TOTCHG   TRAN_IN  TRAN_OUT      YEAR  \\\n",
       "count  6.58e+06  6.58e+06  6.58e+06  6.58e+06  6.58e+06  6.58e+06  6.58e+06   \n",
       "mean  -9.89e+01 -9.89e+01  1.37e+00 -7.71e+06  8.94e-02  2.84e-01  2.02e+03   \n",
       "std    4.10e+00  3.86e+00  2.31e+00  8.77e+07  8.34e-01  7.04e-01  0.00e+00   \n",
       "min   -9.90e+01 -9.90e+01 -9.00e+00 -1.00e+09 -9.00e+00 -9.00e+00  2.02e+03   \n",
       "25%   -9.90e+01 -9.90e+01  1.00e+00  1.70e+04  0.00e+00  0.00e+00  2.02e+03   \n",
       "50%   -9.90e+01 -9.90e+01  1.00e+00  3.58e+04  0.00e+00  0.00e+00  2.02e+03   \n",
       "75%   -9.90e+01 -9.90e+01  2.00e+00  7.45e+04  0.00e+00  0.00e+00  2.02e+03   \n",
       "max    3.51e+02  3.51e+02  6.00e+00  1.00e+07  2.00e+00  2.00e+00  2.02e+03   \n",
       "\n",
       "       ZIPINC_QRTL  \n",
       "count     6.58e+06  \n",
       "mean      2.21e+00  \n",
       "std       1.71e+00  \n",
       "min      -9.00e+00  \n",
       "25%       1.00e+00  \n",
       "50%       2.00e+00  \n",
       "75%       3.00e+00  \n",
       "max       4.00e+00  \n",
       "\n",
       "[8 rows x 62 columns]"
      ]
     },
     "execution_count": 52,
     "metadata": {},
     "output_type": "execute_result"
    }
   ],
   "source": [
    "pd.set_option(\"display.precision\", 2)\n",
    "\n",
    "## summary statistics of the numerical columns\n",
    "df.describe()"
   ]
  },
  {
   "cell_type": "code",
   "execution_count": null,
   "id": "13decb73-79d0-4d41-8498-32bfcb91ce2b",
   "metadata": {},
   "outputs": [],
   "source": [
    "## to be continued\n"
   ]
  }
 ],
 "metadata": {
  "kernelspec": {
   "display_name": "Python 3 (ipykernel)",
   "language": "python",
   "name": "python3"
  },
  "language_info": {
   "codemirror_mode": {
    "name": "ipython",
    "version": 3
   },
   "file_extension": ".py",
   "mimetype": "text/x-python",
   "name": "python",
   "nbconvert_exporter": "python",
   "pygments_lexer": "ipython3",
   "version": "3.12.4"
  }
 },
 "nbformat": 4,
 "nbformat_minor": 5
}
